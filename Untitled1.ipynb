{
  "nbformat": 4,
  "nbformat_minor": 0,
  "metadata": {
    "colab": {
      "name": "Untitled1.ipynb",
      "provenance": [],
      "toc_visible": true,
      "authorship_tag": "ABX9TyMHFs5+iYYxmggpMhrZ4+Ct",
      "include_colab_link": true
    },
    "kernelspec": {
      "name": "python3",
      "display_name": "Python 3"
    },
    "language_info": {
      "name": "python"
    }
  },
  "cells": [
    {
      "cell_type": "markdown",
      "metadata": {
        "id": "view-in-github",
        "colab_type": "text"
      },
      "source": [
        "<a href=\"https://colab.research.google.com/github/Mobin821/Mobin821/blob/main/Untitled1.ipynb\" target=\"_parent\"><img src=\"https://colab.research.google.com/assets/colab-badge.svg\" alt=\"Open In Colab\"/></a>"
      ]
    },
    {
      "cell_type": "markdown",
      "source": [
        "# Python practices"
      ],
      "metadata": {
        "id": "kkbNgygDTffM"
      }
    },
    {
      "cell_type": "markdown",
      "source": [
        ""
      ],
      "metadata": {
        "id": "he05lpOqTZ2H"
      }
    },
    {
      "cell_type": "markdown",
      "source": [
        "## *Data structures*"
      ],
      "metadata": {
        "id": "RkylzKoiTj4r"
      }
    },
    {
      "cell_type": "code",
      "source": [
        "my_list=[1,2,3,4]"
      ],
      "metadata": {
        "id": "jbmxkMRsUP-k"
      },
      "execution_count": 2,
      "outputs": []
    },
    {
      "cell_type": "code",
      "source": [
        "my_list[0]"
      ],
      "metadata": {
        "colab": {
          "base_uri": "https://localhost:8080/"
        },
        "id": "K59ULDOnUTmv",
        "outputId": "b7718126-ea4a-4caa-f4e5-cdedc1831198"
      },
      "execution_count": 3,
      "outputs": [
        {
          "output_type": "execute_result",
          "data": {
            "text/plain": [
              "1"
            ]
          },
          "metadata": {},
          "execution_count": 3
        }
      ]
    },
    {
      "cell_type": "markdown",
      "source": [
        "# Dictionaries"
      ],
      "metadata": {
        "id": "OpmjOB1fVcn8"
      }
    },
    {
      "cell_type": "code",
      "source": [
        "#Dictionaries are similar to lists, however, each value within the dictionaries are assigned a unique & immutable keys\n"
      ],
      "metadata": {
        "id": "wx0bWFmPVhbm"
      },
      "execution_count": null,
      "outputs": []
    }
  ]
}